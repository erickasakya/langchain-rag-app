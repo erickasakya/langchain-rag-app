{
 "cells": [
  {
   "cell_type": "code",
   "execution_count": 1,
   "id": "5ae51a92",
   "metadata": {},
   "outputs": [],
   "source": [
    "import getpass\n",
    "import os"
   ]
  },
  {
   "cell_type": "code",
   "execution_count": 3,
   "id": "52ad8dde",
   "metadata": {},
   "outputs": [],
   "source": [
    "if not os.getenv(\"GROQ_API_KEY\"):\n",
    "    os.environ[\"GROQ_API_KEY\"] = getpass.getpass(\"Enter your GROQ API Key: \")"
   ]
  },
  {
   "cell_type": "code",
   "execution_count": 5,
   "id": "4ad8955a",
   "metadata": {},
   "outputs": [],
   "source": [
    "from langchain_openai import AzureOpenAIEmbeddings\n",
    "\n",
    "# Ensure the environment variables are set correctly\n",
    "\n",
    "if not os.getenv(\"AZURE_EMBEDDING_MODEL\"):\n",
    "    os.environ[\"AZURE_EMBEDDING_MODEL\"] = getpass.getpass(\"Enter your AZURE_EMBEDDING_MODEL: \")\n",
    "\n",
    "if not os.getenv(\"AZURE_EMBEDDING_ENDPOINT\"):\n",
    "    os.environ[\"AZURE_EMBEDDING_ENDPOINT\"] = getpass.getpass(\"Enter your AZURE_EMBEDDING_ENDPOINT: \")\n",
    "\n",
    "if not os.getenv(\"AZURE_EMBEDDING_API_KEY\"):\n",
    "    os.environ[\"AZURE_EMBEDDING_API_KEY\"] = getpass.getpass(\"Enter your AZURE_EMBEDDING_API_KEY: \")\n",
    "\n",
    "\n",
    "embeddings = AzureOpenAIEmbeddings(\n",
    "    model=os.getenv(\"AZURE_EMBEDDING_MODEL\"),\n",
    "    azure_endpoint=os.getenv(\"AZURE_EMBEDDING_ENDPOINT\"),\n",
    "    api_key=os.getenv(\"AZURE_EMBEDDING_API_KEY\")\n",
    ")\n",
    "\n",
    "\n",
    "ef = embeddings.embed_documents"
   ]
  }
 ],
 "metadata": {
  "kernelspec": {
   "display_name": ".venv",
   "language": "python",
   "name": "python3"
  },
  "language_info": {
   "codemirror_mode": {
    "name": "ipython",
    "version": 3
   },
   "file_extension": ".py",
   "mimetype": "text/x-python",
   "name": "python",
   "nbconvert_exporter": "python",
   "pygments_lexer": "ipython3",
   "version": "3.11.4"
  }
 },
 "nbformat": 4,
 "nbformat_minor": 5
}
