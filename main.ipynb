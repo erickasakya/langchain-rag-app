{
 "cells": [
  {
   "cell_type": "code",
   "execution_count": 16,
   "id": "5ae51a92",
   "metadata": {},
   "outputs": [],
   "source": [
    "import getpass\n",
    "import os"
   ]
  },
  {
   "cell_type": "code",
   "execution_count": 17,
   "id": "52ad8dde",
   "metadata": {},
   "outputs": [],
   "source": [
    "if not os.getenv(\"GROQ_API_KEY\"):\n",
    "    os.environ[\"GROQ_API_KEY\"] = getpass.getpass(\"Enter your GROQ API Key: \")"
   ]
  },
  {
   "cell_type": "code",
   "execution_count": 18,
   "id": "4ad8955a",
   "metadata": {},
   "outputs": [],
   "source": [
    "from langchain_openai import AzureOpenAIEmbeddings\n",
    "\n",
    "from chunking_evaluation.chunking import ClusterSemanticChunker"
   ]
  },
  {
   "cell_type": "code",
   "execution_count": 19,
   "id": "836d73ce",
   "metadata": {},
   "outputs": [],
   "source": [
    "# Ensure the environment variables are set correctly\n",
    "if not os.getenv(\"AZURE_EMBEDDING_MODEL\"):\n",
    "    os.environ[\"AZURE_EMBEDDING_MODEL\"] = getpass.getpass(\"Enter your AZURE_EMBEDDING_MODEL: \")\n",
    "\n",
    "if not os.getenv(\"AZURE_EMBEDDING_ENDPOINT\"):\n",
    "    os.environ[\"AZURE_EMBEDDING_ENDPOINT\"] = getpass.getpass(\"Enter your AZURE_EMBEDDING_ENDPOINT: \")\n",
    "\n",
    "if not os.getenv(\"AZURE_EMBEDDING_API_KEY\"):\n",
    "    os.environ[\"AZURE_EMBEDDING_API_KEY\"] = getpass.getpass(\"Enter your AZURE_EMBEDDING_API_KEY: \")\n",
    "\n"
   ]
  },
  {
   "cell_type": "code",
   "execution_count": 20,
   "id": "3935a110",
   "metadata": {},
   "outputs": [],
   "source": [
    "\n",
    "embeddings = AzureOpenAIEmbeddings(\n",
    "    model=os.getenv(\"AZURE_EMBEDDING_MODEL\"),\n",
    "    azure_endpoint=os.getenv(\"AZURE_EMBEDDING_ENDPOINT\"),\n",
    "    api_key=os.getenv(\"AZURE_EMBEDDING_API_KEY\")\n",
    ")\n",
    "\n",
    "ef = embeddings.embed_documents"
   ]
  },
  {
   "cell_type": "code",
   "execution_count": 50,
   "id": "835bca08",
   "metadata": {},
   "outputs": [],
   "source": [
    "from chromadb.utils import embedding_functions\n",
    "\n",
    "azure_openai_ef = embedding_functions.OpenAIEmbeddingFunction(\n",
    "    api_base=os.getenv(\"AZURE_EMBEDDING_BASE\"),\n",
    "    deployment_id=os.getenv(\"AZURE_EMBEDDING_MODEL\"),\n",
    "    api_type=\"azure\",\n",
    "    api_version=\"2023-05-15\",\n",
    "    api_key=os.getenv(\"AZURE_EMBEDDING_API_KEY\")\n",
    "    )"
   ]
  },
  {
   "cell_type": "markdown",
   "id": "8a8475ff",
   "metadata": {},
   "source": [
    "## Reading the data"
   ]
  },
  {
   "cell_type": "code",
   "execution_count": 21,
   "id": "7880a475",
   "metadata": {},
   "outputs": [],
   "source": [
    "with open(\"context_data/the-man-who-was-thursday-a-nightmare.txt\", \"r\") as file:\n",
    "    data = file.read()"
   ]
  },
  {
   "cell_type": "code",
   "execution_count": 66,
   "id": "fcc823a5",
   "metadata": {},
   "outputs": [],
   "source": [
    "chunker = ClusterSemanticChunker(embedding_function=azure_openai_ef, max_chunk_size=200)"
   ]
  },
  {
   "cell_type": "code",
   "execution_count": 62,
   "id": "7198c617",
   "metadata": {},
   "outputs": [],
   "source": [
    "semantic_chunks=chunker.split_text(data)"
   ]
  },
  {
   "cell_type": "code",
   "execution_count": 67,
   "id": "1c3c5965",
   "metadata": {},
   "outputs": [
    {
     "data": {
      "text/plain": [
       "757"
      ]
     },
     "execution_count": 67,
     "metadata": {},
     "output_type": "execute_result"
    }
   ],
   "source": [
    "len(semantic_chunks)"
   ]
  },
  {
   "cell_type": "code",
   "execution_count": 70,
   "id": "4d7e1540",
   "metadata": {},
   "outputs": [
    {
     "data": {
      "text/plain": [
       "'Title: The Man Who Was Thursday: A Nightmare\\n\\nAuthor: G. K. Chesterton\\n\\nRelease date: April 1, 1999 [eBook #1695]\\n                Most recently updated: February 5, 2024 Language: English\\n\\nCredits: Harry Plantinga and David Widger\\n\\n\\n*** START OF THE PROJECT GUTENBERG EBOOK THE MAN WHO WAS THURSDAY: A NIGHTMARE ***\\n\\n\\n\\n\\nThe Man Who Was Thursday A Nightmare\\n\\nby G. K. Chesterton\\n\\n\\nContents\\n\\n A WILD, MAD, HILARIOUS AND PROFOUNDLY MOVING TALE\\n THE MAN WHO WAS THURSDAY'"
      ]
     },
     "execution_count": 70,
     "metadata": {},
     "output_type": "execute_result"
    }
   ],
   "source": [
    "semantic_chunks[1]"
   ]
  },
  {
   "cell_type": "code",
   "execution_count": 65,
   "id": "63bea1a0",
   "metadata": {},
   "outputs": [],
   "source": [
    "# for i in range(0, 10):\n",
    "#     print(f\"Chunk {i+1}: {semantic_chunks[i]}\")\n",
    "#     print(\"-\" * 80)"
   ]
  },
  {
   "cell_type": "markdown",
   "id": "e01ac4be",
   "metadata": {},
   "source": [
    "## Load the chuncks to the chromadb"
   ]
  },
  {
   "cell_type": "code",
   "execution_count": 55,
   "id": "75318eb9",
   "metadata": {},
   "outputs": [],
   "source": [
    "import chromadb\n",
    "client = chromadb.HttpClient(host=\"localhost\", port=8088)"
   ]
  },
  {
   "cell_type": "code",
   "execution_count": 64,
   "id": "f3cba567",
   "metadata": {},
   "outputs": [],
   "source": [
    "#client.delete_collection(name=\"demo_rag_collection\")"
   ]
  },
  {
   "cell_type": "code",
   "execution_count": 71,
   "id": "41449316",
   "metadata": {},
   "outputs": [
    {
     "data": {
      "text/plain": [
       "196"
      ]
     },
     "execution_count": 71,
     "metadata": {},
     "output_type": "execute_result"
    }
   ],
   "source": [
    "collection = client.get_or_create_collection(name=\"demo_rag_collection\", embedding_function=azure_openai_ef)\n",
    "\n",
    "\n",
    "collection.count()"
   ]
  },
  {
   "cell_type": "code",
   "execution_count": 58,
   "id": "899921ff",
   "metadata": {},
   "outputs": [],
   "source": [
    "collection.add(\n",
    "    documents=semantic_chunks,\n",
    "    ids=[str(i) for i in range(len(semantic_chunks))])"
   ]
  },
  {
   "cell_type": "code",
   "execution_count": null,
   "id": "bf630a24",
   "metadata": {},
   "outputs": [],
   "source": [
    "# resp = collection.query(\n",
    "#     query_texts=[\"Who is the writer of the book The Man Who Was Thursday: A Nightmare?\"]\n",
    "# )\n",
    "\n",
    "#print(resp[\"documents\"][0][0])"
   ]
  }
 ],
 "metadata": {
  "kernelspec": {
   "display_name": ".venv",
   "language": "python",
   "name": "python3"
  },
  "language_info": {
   "codemirror_mode": {
    "name": "ipython",
    "version": 3
   },
   "file_extension": ".py",
   "mimetype": "text/x-python",
   "name": "python",
   "nbconvert_exporter": "python",
   "pygments_lexer": "ipython3",
   "version": "3.11.4"
  }
 },
 "nbformat": 4,
 "nbformat_minor": 5
}
